{
 "cells": [
  {
   "cell_type": "markdown",
   "metadata": {},
   "source": [
    "В этом домашнем задании мы будем работать с набором данных о пассажирах парохода \"Титаник\", потерпевшего крушение в 1912 году (источник: соревнование [Titanic: Machine Learning from Disaster](https://www.kaggle.com/c/titanic) на платформе [Kaggle](https://www.kaggle.com)). Датасет лежит по пути `src/titanic.csv`"
   ]
  },
  {
   "cell_type": "markdown",
   "metadata": {},
   "source": [
    "## Задание 1\n",
    "Загрузите таблицу из файла `data.csv` в переменную `df` типа `pd.DataFrame`. В качестве индекса следует использовать колонку `PassengerId`."
   ]
  },
  {
   "cell_type": "code",
   "execution_count": 92,
   "metadata": {},
   "outputs": [],
   "source": [
    "# ваш код"
   ]
  },
  {
   "cell_type": "markdown",
   "metadata": {},
   "source": [
    "## Задание 1.1\n",
    "Сколько строк и столбцов в таблице? Ответом в форме будет кол-во строк умноженное на кол-во столбцов."
   ]
  },
  {
   "cell_type": "code",
   "execution_count": 93,
   "metadata": {},
   "outputs": [],
   "source": [
    "# ваш код"
   ]
  },
  {
   "cell_type": "markdown",
   "metadata": {},
   "source": [
    "## Задание 1.2\n",
    "Отсортируйте Dataframe по возрастанию столбца `Age`. Выведите на экран первые три значения столбца `Age`(возраст).\n",
    "Ответом в форме будет сумма возрастов первых трех пассажиров в отсортированном Dataframe (с двумя знаками после запятой, округленной функцией `round в python 3`)."
   ]
  },
  {
   "cell_type": "code",
   "execution_count": 94,
   "metadata": {},
   "outputs": [],
   "source": [
    "# ваш код"
   ]
  },
  {
   "cell_type": "markdown",
   "metadata": {},
   "source": [
    "## Задание 1.3"
   ]
  },
  {
   "cell_type": "markdown",
   "metadata": {},
   "source": [
    "Какова доля выживших (поле `Survived`)? Ответом в форме будет число (с двумя знаками после запятой, округленной функцией `round в python 3`)"
   ]
  },
  {
   "cell_type": "code",
   "execution_count": 95,
   "metadata": {},
   "outputs": [],
   "source": [
    "# ваш код"
   ]
  },
  {
   "cell_type": "markdown",
   "metadata": {},
   "source": [
    "## Задание 1.4\n",
    "Каковы доли женщин и мужчин среди пассажиров (поле `Sex`)? Ответом в форме будет абсолют разницы между значениями (с двумя знаками после запятой, округленной функцией `round в python 3`)"
   ]
  },
  {
   "cell_type": "code",
   "execution_count": 96,
   "metadata": {},
   "outputs": [],
   "source": [
    "# ваш код"
   ]
  },
  {
   "cell_type": "markdown",
   "metadata": {},
   "source": [
    "## Задание 1.5\n",
    "Какова доля совершеннолетних пассажиров (18 лет и старше)? Ответом в форме будет число (с двумя знаками после запятой, округленной функцией `round в python 3`)"
   ]
  },
  {
   "cell_type": "code",
   "execution_count": 99,
   "metadata": {},
   "outputs": [],
   "source": [
    "# ваш код"
   ]
  },
  {
   "cell_type": "markdown",
   "metadata": {},
   "source": [
    "## Задание 1.6\n",
    "Замените коды пассажирских классов (поле `Pclass`) их названиями (1 = Upper, 2 = Middle, 3 = Lower). Результат выведите на экран. Выведите Dataframe с Pclass = Lower и  Age > 10.0. Ответом в форме будет кол-во строк умноженное на кол-во столбцов этого Dataframe."
   ]
  },
  {
   "cell_type": "code",
   "execution_count": 100,
   "metadata": {},
   "outputs": [],
   "source": [
    "# ваш код"
   ]
  },
  {
   "cell_type": "markdown",
   "metadata": {},
   "source": [
    "## Задача 1.7\n",
    "Какова доля выживших среди женщин?"
   ]
  },
  {
   "cell_type": "code",
   "execution_count": 102,
   "metadata": {},
   "outputs": [],
   "source": [
    "# ваш код"
   ]
  },
  {
   "cell_type": "markdown",
   "metadata": {},
   "source": [
    "## Задача 1.8\n",
    "Сколько всего пропущенных значений в таблице?"
   ]
  },
  {
   "cell_type": "code",
   "execution_count": 104,
   "metadata": {},
   "outputs": [],
   "source": [
    "# ваш код"
   ]
  },
  {
   "cell_type": "markdown",
   "metadata": {},
   "source": [
    "## Задание 1.9\n",
    "Добавьте в таблицу поле `Surname` – фамилию пассажира (первое слово до запятой).\n",
    "Посчитайте в отдельном столбце `Surname_len` - длину фамилии пассажира. Сложите длины всех фамилий - это и будет ответом в форме."
   ]
  },
  {
   "cell_type": "code",
   "execution_count": 105,
   "metadata": {},
   "outputs": [],
   "source": [
    "# ваш код"
   ]
  },
  {
   "cell_type": "markdown",
   "metadata": {},
   "source": [
    "## Задание 1.10\n",
    "Найдите всех пассажиров с аномальной стоимостью билета (поле `Fare`). Будем считать стоимость аномальной, если она отличается от среднего более, чем на 5 стандартных отклонений. Выведите соответствующие строки таблицы на экран. Ответом в форме будет наименьший PassengerId."
   ]
  },
  {
   "cell_type": "code",
   "execution_count": 106,
   "metadata": {},
   "outputs": [],
   "source": [
    "# ваш код"
   ]
  },
  {
   "cell_type": "markdown",
   "metadata": {},
   "source": [
    "## Задание 1.11\n",
    "Выведите на экран столбцы, в которых бывают пропущенные значения. (Hint: *Здесь может помочь метод* `.any()`*, а также индексация переменной* `df.columns`). Перечислите названия всех столбцов по алфавитному порядку через запятую - это будет ответом (Например, ответ в форме - 'Age, Cabin, Name, Survived, Pclass')"
   ]
  },
  {
   "cell_type": "code",
   "execution_count": 107,
   "metadata": {},
   "outputs": [],
   "source": [
    "# ваш код"
   ]
  },
  {
   "cell_type": "markdown",
   "metadata": {},
   "source": [
    "# Задание 1.12\n",
    "Выведите на картинке распределение возрастов женщин с ценой билета меньше 250.0 и медиану (matplotlib или seaborn), а также на ней распределение возрастов мужчин с ценой билета меньше 250.0 и медиану.\n",
    "Ответом к форме будет эта картинка (загрузите на любой фотохостинг и вставьте url)."
   ]
  },
  {
   "cell_type": "code",
   "execution_count": 108,
   "metadata": {},
   "outputs": [],
   "source": [
    "# ваш код"
   ]
  },
  {
   "cell_type": "markdown",
   "metadata": {},
   "source": [
    "### https://forms.gle/JoyGhhHJaa1jag7G7 - ссылка на форму"
   ]
  },
  {
   "cell_type": "code",
   "execution_count": null,
   "metadata": {},
   "outputs": [],
   "source": []
  }
 ],
 "metadata": {
  "kernelspec": {
   "display_name": "Python 3",
   "language": "python",
   "name": "python3"
  },
  "language_info": {
   "codemirror_mode": {
    "name": "ipython",
    "version": 3
   },
   "file_extension": ".py",
   "mimetype": "text/x-python",
   "name": "python",
   "nbconvert_exporter": "python",
   "pygments_lexer": "ipython3",
   "version": "3.7.4"
  }
 },
 "nbformat": 4,
 "nbformat_minor": 2
}
